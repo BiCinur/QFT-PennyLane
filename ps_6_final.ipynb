{
 "cells": [
  {
   "cell_type": "code",
   "execution_count": 9,
   "id": "87d11742",
   "metadata": {},
   "outputs": [
    {
     "name": "stdout",
     "output_type": "stream",
     "text": [
      "Insert a fractional binary number in the form of '0.xxxx' where the x are 0s and 1s: 0.011\n",
      "The floating rep. for 0.011 is: 0.375\n"
     ]
    }
   ],
   "source": [
    "#Q2 part a, the first section\n",
    "def fractional_binary_to_float(s):\n",
    "    Sum = 0.0\n",
    "    for i in range(int(len(s[2:]))): \n",
    "        Sum += int(s[2:][i]) * 2**-(i+1)\n",
    "    return print(\"The floating rep. for \" + str(s) +\" is: \" + str(Sum))\n",
    "s = input(\"Insert a fractional binary number in the form of '0.xxxx' where the x are 0s and 1s: \")\n",
    "fractional_binary_to_float(s)"
   ]
  },
  {
   "cell_type": "code",
   "execution_count": 27,
   "id": "9494662f",
   "metadata": {},
   "outputs": [
    {
     "name": "stdout",
     "output_type": "stream",
     "text": [
      "Insert a numerical value between 0 < x < 1, with a decimal point: 0.375\n",
      "Insert the maximum number of bits in the expansion: 20\n",
      "Fractional binary reperesentation of inserted number  in accuracy of up to 20 bits is: 0.011\n"
     ]
    }
   ],
   "source": [
    "#Q2 part a, the second section\n",
    "def float_to_fractional_binary(x, max_bits):    \n",
    "    e = 0.0\n",
    "    m = 1\n",
    "    Sub = 0.0\n",
    "    while m < float(max_bits):\n",
    "        Sub = float(x) - 2**-m  \n",
    "        if Sub == 0.0000:\n",
    "            e += 1*10**-m\n",
    "            break\n",
    "        elif Sub > 0.0000:\n",
    "            x = Sub\n",
    "            e += 1*10**-m\n",
    "        m += 1\n",
    "    return print(\"Fractional binary reperesentation of inserted number \" + \" in accuracy of up to \" + str(max_bits) + \" bits is: \" + str(e))\n",
    "x = input(\"Insert a numerical value between 0 < x < 1, with a decimal point: \")\n",
    "max_bits = input(\"Insert the maximum number of bits in the expansion: \")\n",
    "float_to_fractional_binary(x, max_bits)"
   ]
  },
  {
   "cell_type": "code",
   "execution_count": 11,
   "id": "78bc99a5",
   "metadata": {},
   "outputs": [
    {
     "data": {
      "text/plain": [
       "tensor([0.125, 0.125, 0.125, 0.125, 0.125, 0.125, 0.125, 0.125], requires_grad=True)"
      ]
     },
     "execution_count": 11,
     "metadata": {},
     "output_type": "execute_result"
    }
   ],
   "source": [
    "# Q2 part b\n",
    "import matplotlib.pyplot as plt\n",
    "import pennylane as qml\n",
    "from pennylane import numpy as np\n",
    "\n",
    "dev = qml.device('default.qubit', wires = 3)\n",
    "\n",
    "@qml.qnode(dev)\n",
    "def qft_3():\n",
    "    \n",
    "    #######First qubit#######\n",
    "    qml.Hadamard(wires = 0)\n",
    "    #Below is the S gate, and the first wire is controlled wire \n",
    "    qml.ControlledPhaseShift(np.pi/2., wires = [1,0])\n",
    "    #Below is the T gate, and the first wire is the controlled wire\n",
    "    qml.ControlledPhaseShift(np.pi/4, wires = [2,0])\n",
    "    #######First qubit#######\n",
    "    \n",
    "    #######Second qubit#######\n",
    "    qml.Hadamard(wires = 1)\n",
    "    #Below is the S gate, and the first wire is controlled wire\n",
    "    qml.ControlledPhaseShift(np.pi/2, wires = [2,1])\n",
    "    #######Second qubit#######\n",
    "    \n",
    "    #######Third qubit#######\n",
    "    qml.Hadamard(wires = 2)\n",
    "    #######Third qubit#######\n",
    "    \n",
    "    #######SWAP####### \n",
    "    qml.SWAP(wires = [0, 2])\n",
    "    #######SWAP#######\n",
    "    \n",
    "    return qml.probs(wires = [0,1,2])\n",
    "qft_3()"
   ]
  },
  {
   "cell_type": "code",
   "execution_count": 24,
   "id": "1d777b74",
   "metadata": {},
   "outputs": [
    {
     "name": "stdout",
     "output_type": "stream",
     "text": [
      "Please input the desired angel here: 0.625\n",
      "The binary rep. for the inserted phase is: 0.101 , which also by converting it into float we will get the same result as: 0.625\n",
      "None\n"
     ]
    }
   ],
   "source": [
    "import pennylane as qml\n",
    "from pennylane import numpy as np\n",
    "\n",
    "# Q2 part c\n",
    "#set up a device\n",
    "dev = qml.device('default.qubit', wires = 4)\n",
    "\n",
    "# The phase estimation circuit\n",
    "@qml.qnode(dev)\n",
    "def qpe(phi):\n",
    "  # Quantum phase estimation on a single-qubit unitary with 3-bit precision.\n",
    "    #First register 3 qubit\n",
    "    qml.Hadamard(wires = 0)\n",
    "    qml.Hadamard(wires = 1)\n",
    "    qml.Hadamard(wires = 2)\n",
    "    #First register 3 qubit\n",
    "    \n",
    "    #Second register qubit\n",
    "    qml.PauliX(wires = 3)\n",
    "    #Second register qubit\n",
    "    \n",
    "    #Appying controlled gates\n",
    "    qml.ControlledPhaseShift(np.pi*(2.*phi), wires=[2, 3])\n",
    "    qml.ControlledPhaseShift(np.pi*(4.*phi), wires=[1, 3])\n",
    "    qml.ControlledPhaseShift(np.pi*(8.*phi), wires=[0, 3])\n",
    "    #Appying controlled gates\n",
    "    \n",
    "    #######SWAP####### \n",
    "    qml.SWAP(wires = [0, 2])\n",
    "    #######SWAP#######\n",
    "    \n",
    "    #Inverse QFT\n",
    "    #######Third qubit#######\n",
    "    qml.Hadamard(wires = 2)\n",
    "    #######Third qubit#######\n",
    "    \n",
    "    #######Second qubit#######\n",
    "    #Below is the daggered S gate, and the first wire is controlled wire\n",
    "    qml.ControlledPhaseShift(-np.pi/2., wires=[2, 1])\n",
    "    qml.Hadamard(wires=1)\n",
    "    #######Second qubit#######\n",
    "    \n",
    "    #######First qubit#######\n",
    "    #Below is the daggered T gate, and the first wire is the controlled wire\n",
    "    qml.ControlledPhaseShift(-np.pi/4., wires=[2, 0])\n",
    "    #Below is the S gate, and the first wire is controlled wire \n",
    "    qml.ControlledPhaseShift(-np.pi/2., wires=[1, 0])\n",
    "    qml.Hadamard(wires = 0)\n",
    "    #######First qubit#######\n",
    "    \n",
    "    return qml.probs(wires=[0,1,2])\n",
    "phi = input(\"Please input the desired angel here: \")\n",
    "result = qpe(float(phi))\n",
    "\n",
    "\n",
    "def result_to_eigenvalue(result):\n",
    "    _result = list(result)\n",
    "    idx = _result.index(max(_result))\n",
    "    return fractional_binary_to_float(f'0.{idx:3b}'.replace(' ', '0'))\n",
    "\n",
    "def fractional_binary_to_float(s):\n",
    "    Sum = 0.0\n",
    "    for i in range(int(len(s[2:]))): \n",
    "        Sum += int(s[2:][i]) * 2**-(i+1)\n",
    "    return print(\"The binary rep. for the inserted phase is: \" + str(s) +\" , which also by converting it into float we will get the same result as: \" + str(Sum))\n",
    "print(result_to_eigenvalue(result))"
   ]
  },
  {
   "cell_type": "code",
   "execution_count": null,
   "id": "3300daba",
   "metadata": {},
   "outputs": [],
   "source": []
  }
 ],
 "metadata": {
  "kernelspec": {
   "display_name": "Python 3 (ipykernel)",
   "language": "python",
   "name": "python3"
  },
  "language_info": {
   "codemirror_mode": {
    "name": "ipython",
    "version": 3
   },
   "file_extension": ".py",
   "mimetype": "text/x-python",
   "name": "python",
   "nbconvert_exporter": "python",
   "pygments_lexer": "ipython3",
   "version": "3.9.13"
  }
 },
 "nbformat": 4,
 "nbformat_minor": 5
}
